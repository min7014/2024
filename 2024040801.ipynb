{
  "nbformat": 4,
  "nbformat_minor": 0,
  "metadata": {
    "colab": {
      "provenance": [],
      "include_colab_link": true
    },
    "kernelspec": {
      "name": "python3",
      "display_name": "Python 3"
    }
  },
  "cells": [
    {
      "cell_type": "markdown",
      "metadata": {
        "id": "view-in-github",
        "colab_type": "text"
      },
      "source": [
        "<a href=\"https://colab.research.google.com/github/min7014/2024/blob/main/2024040801.ipynb\" target=\"_parent\"><img src=\"https://colab.research.google.com/assets/colab-badge.svg\" alt=\"Open In Colab\"/></a>"
      ]
    },
    {
      "cell_type": "markdown",
      "source": [
        "### 2.2.2 확인문제\n"
      ],
      "metadata": {
        "id": "L-bNfEMusPUe"
      }
    },
    {
      "cell_type": "markdown",
      "source": [
        "- 문제1\n",
        "\n",
        "  (1) $y=2x^2-x+3$, $y=x+1$\n",
        "\n",
        "  https://www.geogebra.org/m/gyzefpx4\n",
        "\n",
        "  (2) $y=2x^2-x+3$, $y=x+4$\n",
        "\n",
        "  https://www.geogebra.org/m/gx8a2pfh\n",
        "\n",
        "  (3) $y=2x^2-x+3$, $y=3x+1$\n",
        "\n",
        "  https://www.geogebra.org/m/udk55uht\n",
        "\n",
        "\n",
        "- 문제2\n",
        "  \n",
        "  $y=x^2-5x$, $y=4x-2$\n",
        "\n",
        "  https://www.geogebra.org/m/p3u3grze\n",
        "\n",
        "- 문제3\n",
        "  \n",
        "  $y=x^2+2x+3$, $y=x-1$, $y=kx-1$\n",
        "\n",
        "  https://www.geogebra.org/m/rjwc2xhv\n",
        "\n",
        "- 문제4\n",
        "  \n",
        "  $y=x^2-2x-5$, $y=-x+k$\n",
        "\n",
        "  https://www.geogebra.org/m/rjwc2xhv\n",
        "\n",
        "  $y=x^2-2x-1$, $y=-x+k$\n",
        "\n",
        "  https://www.geogebra.org/m/abq8spmx\n",
        "\n",
        "\n",
        "- 문제5\n",
        "  \n",
        "  $y=-x^2+ax+3$, $y=2x+1$\n",
        "\n",
        "  https://www.geogebra.org/m/wj5qxqau\n",
        "\n",
        "- 추론\n",
        "\n",
        "  $y=-\\displaystyle\\frac{1}{30}x^2+\\frac{1}{3}x$, $y=mx$\n",
        "\n",
        "  https://www.geogebra.org/m/deqys9s5\n",
        "\n",
        "\n"
      ],
      "metadata": {
        "id": "kcDbBYl6QkoH"
      }
    }
  ]
}