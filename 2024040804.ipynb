{
  "nbformat": 4,
  "nbformat_minor": 0,
  "metadata": {
    "colab": {
      "provenance": [],
      "include_colab_link": true
    },
    "kernelspec": {
      "name": "python3",
      "display_name": "Python 3"
    }
  },
  "cells": [
    {
      "cell_type": "markdown",
      "metadata": {
        "id": "view-in-github",
        "colab_type": "text"
      },
      "source": [
        "<a href=\"https://colab.research.google.com/github/min7014/2024/blob/main/2024040804.ipynb\" target=\"_parent\"><img src=\"https://colab.research.google.com/assets/colab-badge.svg\" alt=\"Open In Colab\"/></a>"
      ]
    },
    {
      "cell_type": "markdown",
      "source": [
        "### 매개변수로 나타낸 곡선(Parametric curve)\n"
      ],
      "metadata": {
        "id": "L-bNfEMusPUe"
      }
    },
    {
      "cell_type": "markdown",
      "source": [
        "01. Geogebra를 실행시킨다.\n",
        "\n",
        "  Run Geogebra."
      ],
      "metadata": {
        "id": "QarDrCD0Sanb"
      }
    },
    {
      "cell_type": "markdown",
      "source": [
        "02. [Algebra]창에  오른쪽 방향 선택하면 아래방향으로 바뀌면서 추가메뉴가 나오면 첫 번째 아래방향을 선택하여 [Sort by:]에서 [Construction Order]를 선택한다.\n",
        "\n",
        "  When you select the right direction in the [Algebra] window, it changes to the downward direction and an additional menu appears. Select the first downward direction and select [Construction Order] from [Sort by:]."
      ],
      "metadata": {
        "id": "mc941mCmSbf_"
      }
    },
    {
      "cell_type": "markdown",
      "source": [
        "03. 입력창에\n",
        "\n",
        "    f(t)=cos(t)^3\n",
        "\n",
        "    을 입력하여 함수 f를 만든다."
      ],
      "metadata": {
        "id": "5kxu6t2pSgip"
      }
    },
    {
      "cell_type": "markdown",
      "source": [],
      "metadata": {
        "id": "-ePujUv3SiuB"
      }
    },
    {
      "cell_type": "markdown",
      "source": [
        "04. 입력창에\n",
        "\n",
        "    보이기설정[f, 1, false]\n",
        "\n",
        "    을 입력하여 함수 f를 기하창에서 보이지 않게 한다."
      ],
      "metadata": {
        "id": "gqQP9EglSj-V"
      }
    },
    {
      "cell_type": "markdown",
      "source": [
        "05. 입력창에\n",
        "\n",
        "    g(t)=sin(t)^3\n",
        "\n",
        "    을 입력하여 함수 g를 만든다."
      ],
      "metadata": {
        "id": "6kYk9KCLSlol"
      }
    },
    {
      "cell_type": "markdown",
      "source": [
        "06. 입력창에\n",
        "\n",
        "    보이기설정[g, 1, false]\n",
        "\n",
        "    를 입력하여 함수 f를 기하창에서 보이지 않게 한다."
      ],
      "metadata": {
        "id": "BjFocb7OSn0Q"
      }
    },
    {
      "cell_type": "markdown",
      "source": [
        "07. 입력창에\n",
        "\n",
        "    a=0\n",
        "\n",
        "    를 입력하여 수 a를 만든다."
      ],
      "metadata": {
        "id": "36Js75lLSpbF"
      }
    },
    {
      "cell_type": "markdown",
      "source": [
        "08. 입력창에\n",
        "\n",
        "    b=2pi\n",
        "\n",
        "    를 입력하여 수 a를 만든다."
      ],
      "metadata": {
        "id": "5WM0hsBYSrC_"
      }
    },
    {
      "cell_type": "markdown",
      "source": [
        "09. 입력창에\n",
        "\n",
        "    t=슬라이더[a,b]\n",
        "\n",
        "    를 입력하여 수 t를 만든다."
      ],
      "metadata": {
        "id": "vjbguX9mSsbv"
      }
    },
    {
      "cell_type": "markdown",
      "source": [
        "10. 입력창에\n",
        "\n",
        "    P=(f(t),g(t))\n",
        "\n",
        "    를 입력하여 수 t의 값에 따라 x좌표는 f(t) y좌표는 g(t)인 점 P를 만든다."
      ],
      "metadata": {
        "id": "Kq0EV2wLSt2h"
      }
    },
    {
      "cell_type": "markdown",
      "source": [
        "11. 입력창에\n",
        "\n",
        "    캡션설정[P,\"$\\mathrm{P}$\"]\n",
        "\n",
        "    를 입력하여 점 P를 이름을 Latex 수식으로 이쁘게 만든다."
      ],
      "metadata": {
        "id": "tmX_8TEWSv35"
      }
    },
    {
      "cell_type": "markdown",
      "source": [
        "12. 입력창에\n",
        "\n",
        "    색상설정[P,\"파랑\"]\n",
        "\n",
        "    를 입력하여 점 P의 색상을 파랑으로 한다."
      ],
      "metadata": {
        "id": "SNmfQtohSxfp"
      }
    },
    {
      "cell_type": "markdown",
      "source": [
        "13. 입력창에\n",
        "\n",
        "    c=곡선[f(v),g(v),v,a,t]\n",
        "\n",
        "    를 입력하여 매개변수 곡선 c를 만든다."
      ],
      "metadata": {
        "id": "ljUtGNb6SzBJ"
      }
    },
    {
      "cell_type": "markdown",
      "source": [
        "14. 입력창에\n",
        "\n",
        "    색상설정[c,\"파랑\"]\n",
        "\n",
        "    를 입력하여 매개변수 곡선 c의 색상을 파랑으로 한다."
      ],
      "metadata": {
        "id": "nIlN5f0tS0zh"
      }
    },
    {
      "cell_type": "markdown",
      "source": [
        "15. 대수창과 기하창 경계에 마우스를 위치시켰을때 마우스 커서가 좌우화살표로 변한다.\n",
        "\n",
        "    이때 왼쪽 마우스를 누른상태로 대수창을 넓혀서 곡선 c의 내용이\n",
        "\n",
        "    다 보이도록 창의 너비를 조절한다."
      ],
      "metadata": {
        "id": "nm8RybTXS29L"
      }
    },
    {
      "cell_type": "markdown",
      "source": [
        "16. 대수창의 t를 선택하거나 기하창의 슬라이더 t 를 선택하고\n",
        "\n",
        "    좌 우 방향키를 눌러보면 수 t의 값에 따라 매개변수 곡선이 그려진다."
      ],
      "metadata": {
        "id": "jIABm-KeS4hz"
      }
    },
    {
      "cell_type": "markdown",
      "source": [
        "17. 입력창에  \n",
        "\n",
        "    애니메이션시작[t,true]\n",
        "\n",
        "    를 입력하여 수 t의 값이 자동으로 변하게 한다.\n",
        "\n",
        "    또한 입력창에\n",
        "\n",
        "    애니메이션시작[t,false]\n",
        "\n",
        "    를 입력하여 수 t의 값이 변하는 것을 멈출 수 있다."
      ],
      "metadata": {
        "id": "NoeA9EInS6RD"
      }
    },
    {
      "cell_type": "markdown",
      "source": [
        "ex)\n",
        "\n",
        "f(t)=3cos[t]\n",
        "\n",
        "g(t)=3sin[t]\n",
        "\n",
        "a=0\n",
        "\n",
        "b=2pi\n",
        "\n",
        "\n",
        "\n",
        "f(t)=cos[2t]\n",
        "\n",
        "g(t)=2cos[t]\n",
        "\n",
        "a=0\n",
        "\n",
        "b=pi\n",
        "\n",
        "\n",
        "\n",
        "f(t)=sin[t]\n",
        "\n",
        "g(t)=cos[2t]\n",
        "\n",
        "a=pi/2\n",
        "\n",
        "b=3pi/2\n",
        "\n",
        "\n",
        "\n",
        "f(t)=t-sin[t]\n",
        "\n",
        "g(t)=1-cos[t]\n",
        "\n",
        "a=0\n",
        "\n",
        "b=2pi"
      ],
      "metadata": {
        "id": "rjlqWeCCS7l5"
      }
    }
  ]
}