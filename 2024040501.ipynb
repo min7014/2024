{
  "nbformat": 4,
  "nbformat_minor": 0,
  "metadata": {
    "colab": {
      "provenance": [],
      "include_colab_link": true
    },
    "kernelspec": {
      "name": "python3",
      "display_name": "Python 3"
    }
  },
  "cells": [
    {
      "cell_type": "markdown",
      "metadata": {
        "id": "view-in-github",
        "colab_type": "text"
      },
      "source": [
        "<a href=\"https://colab.research.google.com/github/min7014/2024/blob/main/2024040501.ipynb\" target=\"_parent\"><img src=\"https://colab.research.google.com/assets/colab-badge.svg\" alt=\"Open In Colab\"/></a>"
      ]
    },
    {
      "cell_type": "markdown",
      "source": [
        "### 2.2.1 이차방정식과 이차함수의 관계\n"
      ],
      "metadata": {
        "id": "_t43mFYrwYhN"
      }
    },
    {
      "cell_type": "markdown",
      "source": [
        "- 생각열기\n",
        "\n",
        "  x축과 이차함수의 교점의 개수\n",
        "\n",
        "  https://www.geogebra.org/m/mxfjcxbe\n",
        "\n",
        "\n",
        "- 문제 1\n",
        "  \n",
        "  (1) $y=x^2-1$\n",
        "\n",
        "  https://www.geogebra.org/m/jswjhhmx\n",
        "\n",
        "  (2) $y=-x^2+6x-9$\n",
        "\n",
        "  https://www.geogebra.org/m/bdn5c8bq\n",
        "\n",
        "  (3) $y=x^2-10x+16$\n",
        "\n",
        "  https://www.geogebra.org/m/ghenfypn\n",
        "\n",
        "  (4) $y=-2x^2+5x-3$\n",
        "\n",
        "  https://www.geogebra.org/m/uy27keye\n",
        "\n",
        "\n",
        " - 문제 2\n",
        "  \n",
        "  (1) $y=x^2+3x+5$\n",
        "\n",
        "  https://www.geogebra.org/m/nrdbnrzc\n",
        "\n",
        "  (2) $y=x^2-3x-2$\n",
        "\n",
        "  https://www.geogebra.org/m/vaqnyctg\n",
        "\n",
        "  (3) $y=-4x^2+4x-1$\n",
        "\n",
        "  https://www.geogebra.org/m/yjcjj2rw\n",
        "\n",
        "  (4) $y=2x^2-8x+11$\n",
        "\n",
        "  https://www.geogebra.org/m/atdqhxfp\n",
        "\n",
        "\n",
        "- 예제1\n",
        "  \n",
        "  $y=x^2+4x+k$\n",
        "\n",
        "  https://www.geogebra.org/m/d3k7emar\n",
        "\n",
        "\n",
        "- 문제 3\n",
        "\n",
        "  $y=-2x^2+2x+3k-1$\n",
        "\n",
        "  https://www.geogebra.org/m/xfuuz7kg\n",
        "\n",
        "  \n",
        "\n",
        "\n"
      ],
      "metadata": {
        "id": "m9s0hDm2wemn"
      }
    },
    {
      "cell_type": "markdown",
      "source": [
        "### 2.2.2 이차함수의 그래프와 직선의 위치 관계\n"
      ],
      "metadata": {
        "id": "L-bNfEMusPUe"
      }
    },
    {
      "cell_type": "markdown",
      "source": [
        "\n",
        "- 생각열기\n",
        "  \n",
        "  $y=x^2$, $y=x+a$\n",
        "\n",
        "  https://www.geogebra.org/m/x8b2njqr\n",
        "\n",
        "- 보기\n",
        "\n",
        "  (1) $y=x^2-4x-5$, $y=2x-5$\n",
        "      \n",
        "  https://www.geogebra.org/m/uxpdddz2\n",
        "\n",
        "  (2) $y=-x^2$, $y=-x+1$\n",
        "\n",
        "  https://www.geogebra.org/m/wmwawkgd\n",
        "\n",
        "\n",
        "- 문제1\n",
        "\n",
        "  (1) $y=3x^2 -2x +1$, $y=-3x+1$\n",
        "\n",
        "  https://www.geogebra.org/m/e9tvcqs7\n",
        "\n",
        "  (2) $y=-x^2+5x+3$, $y=4x+5$\n",
        "\n",
        "  https://www.geogebra.org/m/ycmdzyhk\n",
        "\n",
        "  (3) $y=2x^2+5x+1$, $y=x-1$\n",
        "\n",
        "  https://www.geogebra.org/m/c4pjkseu\n",
        "\n",
        "\n",
        "- 예제1\n",
        "\n",
        "  $y=2x^2$, $y=kx-2$\n",
        "\n",
        "  https://www.geogebra.org/m/vegaw2ak\n",
        "  \n",
        "\n",
        "- 문제2\n",
        "\n",
        "  $y=3x^2+1$, $y=-2x+k$\n",
        "\n",
        "  https://www.geogebra.org/m/vkvwxvrd\n",
        "\n",
        "\n",
        "\n"
      ],
      "metadata": {
        "id": "kcDbBYl6QkoH"
      }
    }
  ]
}