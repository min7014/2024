{
  "nbformat": 4,
  "nbformat_minor": 0,
  "metadata": {
    "colab": {
      "provenance": [],
      "include_colab_link": true
    },
    "kernelspec": {
      "name": "python3",
      "display_name": "Python 3"
    }
  },
  "cells": [
    {
      "cell_type": "markdown",
      "metadata": {
        "id": "view-in-github",
        "colab_type": "text"
      },
      "source": [
        "<a href=\"https://colab.research.google.com/github/min7014/2024/blob/main/2024040401.ipynb\" target=\"_parent\"><img src=\"https://colab.research.google.com/assets/colab-badge.svg\" alt=\"Open In Colab\"/></a>"
      ]
    },
    {
      "cell_type": "markdown",
      "source": [
        "# **안내사항(마지막 업데이트 20240405) **"
      ],
      "metadata": {
        "id": "0lqYMJH5UaYa"
      }
    },
    {
      "cell_type": "markdown",
      "source": [
        "- 수학문제 질문하는 곳\n",
        "\n",
        "  https://padlet.com/min7014/padlet-a8qu5qmo0vhazfqz"
      ],
      "metadata": {
        "id": "eWfCzhiUziLH"
      }
    },
    {
      "cell_type": "markdown",
      "source": [
        "# 수학 시험 범위 확정합니다.\n",
        "\n",
        "  교과서 처음부터 P.86까지 입니다.\n",
        "\n",
        "  P.104 ~ 106(단원 평가 문제) 중에서 1~12번, 21, 23번 (14문졔)"
      ],
      "metadata": {
        "id": "g46wH-QNMVAx"
      }
    },
    {
      "cell_type": "markdown",
      "source": [
        "# 새로운 내용"
      ],
      "metadata": {
        "id": "RNrUwaw0NsyI"
      }
    },
    {
      "cell_type": "markdown",
      "source": [
        "# 그동안 메시지 보낸 것을 정리한 내용은 아래와 같습니다.\n",
        "\n",
        "\n"
      ],
      "metadata": {
        "id": "mrKKBxpsMk8I"
      }
    },
    {
      "cell_type": "markdown",
      "source": [
        "# 수업안내사항"
      ],
      "metadata": {
        "id": "piFGI1R1siMa"
      }
    },
    {
      "cell_type": "markdown",
      "source": [
        "- $x^7$을 $B(x)$로 나누었을 때, 몫이 $x^3$가 되는 경우의 나누는 수 $B(x)$와 그때의 나머지 $R(x)$을 구하여라.(다항식의  나눗셈)\n",
        "  \n",
        "  $B(x)=x^4+a$, $R(x)=-ax^3$ ($a$ 는 상수)\n",
        "\n",
        "  "
      ],
      "metadata": {
        "id": "TJjzDbqVNMnr"
      }
    },
    {
      "cell_type": "markdown",
      "source": [
        "-   $11$을 $B$로 나누었을 때, 몫이 $2$가 되는 경우의 나누는 수 $B$와 그때의 나머지 $R$을 구하여라.(자연수의 나눗셈)\n",
        "\n",
        "  11=5×2+1, 11=4×2+3\n"
      ],
      "metadata": {
        "id": "ERT7pbBfM3GU"
      }
    },
    {
      "cell_type": "markdown",
      "source": [
        "\n",
        "\n",
        "\n",
        "- 아래는 무한문제 생성기 모음입니다.\n",
        "\n",
        "  계산연습(Calculation Practice)\n",
        "\n",
        "  https://www.geogebra.org/m/ukf5bkut\n",
        "\n",
        "  계산연습에는\n",
        "\n",
        "  사칙연산, 지수법칙,\n",
        "\n",
        "  연립방정식, 인수분해, 완전제곱식,\n",
        "\n",
        "  일차함수 와 관련된 무한 문제생성기가 있습니다.\n",
        "\n",
        "- 제곱근(Square Root)\n",
        "\n",
        "  https://min7014.github.io/math20191231003.html\n",
        "\n",
        "- 복소수 관련내용 참고\n",
        "\n",
        "  복소수(Complex Numbers)\n",
        "\n",
        "  https://min7014.github.io/math20210128002.html\n",
        "\n",
        "- 선형방정식(Linear Equation)\n",
        "\n",
        "  https://min7014.github.io/math20210131002.html\n",
        "\n",
        "- 일차함수(Linear function)\n",
        "\n",
        "  https://min7014.github.io/math20220519001.html\n",
        "\n",
        "- 이차방정식(Quadratic Equation)\n",
        "\n",
        "   https://min7014.github.io/math20210207002.html\n",
        "\n",
        "- 그리고 이차함수 그래프 잘 그려야 합니다.\n",
        "\n",
        "  이차함수[중학교](Quadratic function[Middle school])\n",
        "\n",
        "  https://min7014.github.io/math20210425001.html\n",
        "\n",
        "- 수업시간에 모든 학생들에게 안내했듯이 아래 자료를 이용하든 EBS 이용하든 중학교 기하 부분 다시 공부하기 바랍니다.\n",
        "\n",
        "  도형의 방정식 사전공부내용(중학교과정)(Pre-study contents of equations of geometric shapes(middle school course))\n",
        "\n",
        "  https://min7014.github.io/math20210529001.html"
      ],
      "metadata": {
        "id": "F_EzPwdrMLTz"
      }
    },
    {
      "cell_type": "markdown",
      "source": [
        "# 교과서 수업자료"
      ],
      "metadata": {
        "id": "oh8deHXisoYj"
      }
    },
    {
      "cell_type": "markdown",
      "source": [
        "### 2.2.1 이차방정식과 이차함수의 관계\n"
      ],
      "metadata": {
        "id": "_t43mFYrwYhN"
      }
    },
    {
      "cell_type": "markdown",
      "source": [
        "- 생각열기\n",
        "\n",
        "  x축과 이차함수의 교점의 개수\n",
        "\n",
        "  https://www.geogebra.org/m/mxfjcxbe\n",
        "\n",
        "\n",
        "- 문제 1\n",
        "  \n",
        "  (1) $y=x^2-1$\n",
        "\n",
        "  https://www.geogebra.org/m/jswjhhmx\n",
        "\n",
        "  (2) $y=-x^2+6x-9$\n",
        "\n",
        "  https://www.geogebra.org/m/bdn5c8bq\n",
        "\n",
        "  (3) $y=x^2-10x+16$\n",
        "\n",
        "  https://www.geogebra.org/m/ghenfypn\n",
        "\n",
        "  (4) $y=-2x^2+5x-3$\n",
        "\n",
        "  https://www.geogebra.org/m/uy27keye\n",
        "\n",
        "\n",
        " - 문제 2\n",
        "  \n",
        "  (1) $y=x^2+3x+5$\n",
        "\n",
        "  https://www.geogebra.org/m/nrdbnrzc\n",
        "\n",
        "  (2) $y=x^2-3x-2$\n",
        "\n",
        "  https://www.geogebra.org/m/vaqnyctg\n",
        "\n",
        "  (3) $y=-4x^2+4x-1$\n",
        "\n",
        "  https://www.geogebra.org/m/yjcjj2rw\n",
        "\n",
        "  (4) $y=2x^2-8x+11$\n",
        "\n",
        "  https://www.geogebra.org/m/atdqhxfp\n",
        "\n",
        "\n",
        "- 예제1\n",
        "  \n",
        "  $y=x^2+4x+k$\n",
        "\n",
        "  https://www.geogebra.org/m/d3k7emar\n",
        "\n",
        "\n",
        "- 문제 3\n",
        "\n",
        "  $y=-2x^2+2x+3k-1$\n",
        "\n",
        "  https://www.geogebra.org/m/xfuuz7kg\n",
        "\n",
        "  \n",
        "\n",
        "\n"
      ],
      "metadata": {
        "id": "m9s0hDm2wemn"
      }
    },
    {
      "cell_type": "markdown",
      "source": [
        "### 2.2.2 이차함수의 그래프와 직선의 위치 관계\n"
      ],
      "metadata": {
        "id": "L-bNfEMusPUe"
      }
    },
    {
      "cell_type": "markdown",
      "source": [
        "\n",
        "- 생각열기\n",
        "  \n",
        "  $y=x^2$, $y=x+a$\n",
        "\n",
        "  https://www.geogebra.org/m/x8b2njqr\n",
        "\n",
        "- 보기\n",
        "\n",
        "  (1) $y=x^2-4x-5$, $y=2x-5$\n",
        "      \n",
        "  https://www.geogebra.org/m/uxpdddz2\n",
        "\n",
        "  (2) $y=-x^2$, $y=-x+1$\n",
        "\n",
        "  https://www.geogebra.org/m/wmwawkgd\n",
        "\n",
        "\n",
        "- 문제1\n",
        "\n",
        "  (1) $y=3x^2 -2x +1$, $y=-3x+1$\n",
        "\n",
        "  https://www.geogebra.org/m/e9tvcqs7\n",
        "\n",
        "  (2) $y=-x^2+5x+3$, $y=4x+5$\n",
        "\n",
        "  https://www.geogebra.org/m/ycmdzyhk\n",
        "\n",
        "  (3) $y=2x^2+5x+1$, $y=x-1$\n",
        "\n",
        "  https://www.geogebra.org/m/c4pjkseu\n",
        "\n",
        "\n",
        "- 예제1\n",
        "\n",
        "  $y=2x^2$, $y=kx-2$\n",
        "\n",
        "  https://www.geogebra.org/m/vegaw2ak\n",
        "  \n",
        "\n",
        "- 문제2\n",
        "\n",
        "  $y=3x^2+1$, $y=-2x+k$\n",
        "\n",
        "  https://www.geogebra.org/m/vkvwxvrd\n",
        "\n",
        "\n",
        "\n"
      ],
      "metadata": {
        "id": "kcDbBYl6QkoH"
      }
    }
  ]
}