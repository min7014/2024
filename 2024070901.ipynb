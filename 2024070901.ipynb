{
  "nbformat": 4,
  "nbformat_minor": 0,
  "metadata": {
    "colab": {
      "provenance": [],
      "include_colab_link": true
    },
    "kernelspec": {
      "name": "python3",
      "display_name": "Python 3"
    }
  },
  "cells": [
    {
      "cell_type": "markdown",
      "metadata": {
        "id": "view-in-github",
        "colab_type": "text"
      },
      "source": [
        "<a href=\"https://colab.research.google.com/github/min7014/2024/blob/main/2024070901.ipynb\" target=\"_parent\"><img src=\"https://colab.research.google.com/assets/colab-badge.svg\" alt=\"Open In Colab\"/></a>"
      ]
    },
    {
      "cell_type": "markdown",
      "source": [
        "# **Unity **"
      ],
      "metadata": {
        "id": "0lqYMJH5UaYa"
      }
    },
    {
      "cell_type": "markdown",
      "source": [
        "https://store.unity.com/kr\n",
        "\n",
        "Unity Personal\n",
        "\n",
        "https://public-cdn.cloud.unity3d.com/hub/prod/UnityHubSetup.exe\n",
        "\n",
        "\n"
      ],
      "metadata": {
        "id": "bAwPQAUx1Zng"
      }
    },
    {
      "cell_type": "markdown",
      "source": [
        "Got It --> Skip installation --> Agree --> Preferences --> Appearance --> 한국어 --> x --> 에디터 설치 --> Unity 6 Preview --> 설치 --> Microsoft Visual Community 2022, Android Build Support, Open IDK, Android SDK & NDK Tools, iOS Build Support 체크 --> 계속 --> 동의 체크 --> 계속 --> 설치"
      ],
      "metadata": {
        "id": "HTKgYHLrrUwF"
      }
    },
    {
      "cell_type": "markdown",
      "source": [
        "Android Studio\n",
        "\n",
        "https://developer.android.com/studio/index.html\n",
        "\n",
        "https://redirector.gvt1.com/edgedl/android/studio/install/2024.1.1.12/android-studio-2024.1.1.12-windows.exe\n",
        "\n"
      ],
      "metadata": {
        "id": "bo2PGhDQ0T1e"
      }
    },
    {
      "cell_type": "markdown",
      "source": [
        "Edit --> Preferences -->General --> Editor Theme --> Light or Dark"
      ],
      "metadata": {
        "id": "1cYYwLDPs1e2"
      }
    },
    {
      "cell_type": "markdown",
      "source": [
        "Projects --> New project --> All templates"
      ],
      "metadata": {
        "id": "p0wQjsfCtFY0"
      }
    },
    {
      "cell_type": "markdown",
      "source": [
        "Scene\n",
        "\n",
        "Main Camera, Directional Light"
      ],
      "metadata": {
        "id": "fUDs2dBW3S9A"
      }
    },
    {
      "cell_type": "markdown",
      "source": [
        "Hierachy --> + --> 3D Object --> Cube --> Inspector"
      ],
      "metadata": {
        "id": "NXVTTnH04NL9"
      }
    },
    {
      "cell_type": "markdown",
      "source": [
        "Window --> Rendering --> Lighting --> Scene --> Auto Generate(Generate Lighting)"
      ],
      "metadata": {
        "id": "5zTGIRim6s3p"
      }
    },
    {
      "cell_type": "markdown",
      "source": [],
      "metadata": {
        "id": "8lG6lB_84h-9"
      }
    }
  ]
}