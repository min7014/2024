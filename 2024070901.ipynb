{
  "nbformat": 4,
  "nbformat_minor": 0,
  "metadata": {
    "colab": {
      "provenance": [],
      "include_colab_link": true
    },
    "kernelspec": {
      "name": "python3",
      "display_name": "Python 3"
    }
  },
  "cells": [
    {
      "cell_type": "markdown",
      "metadata": {
        "id": "view-in-github",
        "colab_type": "text"
      },
      "source": [
        "<a href=\"https://colab.research.google.com/github/min7014/2024/blob/main/2024070901.ipynb\" target=\"_parent\"><img src=\"https://colab.research.google.com/assets/colab-badge.svg\" alt=\"Open In Colab\"/></a>"
      ]
    },
    {
      "cell_type": "markdown",
      "source": [
        "# **Unity **"
      ],
      "metadata": {
        "id": "0lqYMJH5UaYa"
      }
    },
    {
      "cell_type": "markdown",
      "source": [
        "https://store.unity.com/kr\n",
        "\n",
        "Unity Personal\n",
        "\n",
        "https://public-cdn.cloud.unity3d.com/hub/prod/UnityHubSetup.exe\n",
        "\n",
        "\n"
      ],
      "metadata": {
        "id": "bAwPQAUx1Zng"
      }
    },
    {
      "cell_type": "markdown",
      "source": [
        "Got It --> Skip installation --> Agree --> Preferences --> Appearance --> 한국어 --> x --> 에디터 설치 --> Unity 6 Preview --> 설치 --> Microsoft Visual Community 2022, Android Build Support, Open IDK, Android SDK & NDK Tools, iOS Build Support 체크 --> 계속 --> 동의 체크 --> 계속 --> 설치"
      ],
      "metadata": {
        "id": "HTKgYHLrrUwF"
      }
    }
  ]
}