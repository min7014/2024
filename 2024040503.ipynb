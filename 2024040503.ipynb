{
  "nbformat": 4,
  "nbformat_minor": 0,
  "metadata": {
    "colab": {
      "provenance": [],
      "include_colab_link": true
    },
    "kernelspec": {
      "name": "python3",
      "display_name": "Python 3"
    }
  },
  "cells": [
    {
      "cell_type": "markdown",
      "metadata": {
        "id": "view-in-github",
        "colab_type": "text"
      },
      "source": [
        "<a href=\"https://colab.research.google.com/github/min7014/2024/blob/main/2024040503.ipynb\" target=\"_parent\"><img src=\"https://colab.research.google.com/assets/colab-badge.svg\" alt=\"Open In Colab\"/></a>"
      ]
    },
    {
      "cell_type": "markdown",
      "source": [
        "### 2.2.1 확인문제\n"
      ],
      "metadata": {
        "id": "_t43mFYrwYhN"
      }
    },
    {
      "cell_type": "markdown",
      "source": [
        "- 문제 1\n",
        "  \n",
        "  (1) $y=x^2-12x+5$\n",
        "\n",
        "  https://www.geogebra.org/m/edmeyvuq\n",
        "\n",
        "  (2) $y=-x^2+3x-4$\n",
        "\n",
        "  https://www.geogebra.org/m/bjn6geun\n",
        "\n",
        "  (3) $y=2x^2-2\\sqrt{2}x+1$\n",
        "\n",
        "  https://www.geogebra.org/m/tv9rjtab\n",
        "\n",
        "\n",
        " - 문제 2\n",
        "  \n",
        "  $y=2x^2-6x+p-3$\n",
        "\n",
        "  https://www.geogebra.org/m/qauvtfsr\n",
        "\n",
        "\n",
        " - 문제 3\n",
        "  \n",
        "  $y=x^2-6x-1$\n",
        "\n",
        "  https://www.geogebra.org/m/mdzfzdcn\n",
        "\n",
        "\n",
        " - 문제 4\n",
        "  \n",
        "  $y=x^2+kx+6$\n",
        "\n",
        "  https://www.geogebra.org/m/shywzy4m\n",
        "\n",
        "\n",
        " - 문제 5\n",
        "  \n",
        "  $y=x^2-2(a+k)x+k^2-2a-4k$\n",
        "\n",
        "  https://www.geogebra.org/m/bepkq7uk\n",
        "\n",
        "- 추론\n",
        "  \n",
        "  $y=x^2-2x+a+1$\n",
        "\n",
        "  https://www.geogebra.org/m/u2qafb8e\n",
        "\n",
        "\n",
        "  \n",
        "\n",
        "\n"
      ],
      "metadata": {
        "id": "m9s0hDm2wemn"
      }
    }
  ]
}