{
  "nbformat": 4,
  "nbformat_minor": 0,
  "metadata": {
    "colab": {
      "provenance": [],
      "include_colab_link": true
    },
    "kernelspec": {
      "name": "python3",
      "display_name": "Python 3"
    }
  },
  "cells": [
    {
      "cell_type": "markdown",
      "metadata": {
        "id": "view-in-github",
        "colab_type": "text"
      },
      "source": [
        "<a href=\"https://colab.research.google.com/github/min7014/2024/blob/main/2024040802.ipynb\" target=\"_parent\"><img src=\"https://colab.research.google.com/assets/colab-badge.svg\" alt=\"Open In Colab\"/></a>"
      ]
    },
    {
      "cell_type": "markdown",
      "source": [
        "### 2.2.3 이차함수의 최대, 최소\n"
      ],
      "metadata": {
        "id": "L-bNfEMusPUe"
      }
    },
    {
      "cell_type": "markdown",
      "source": [
        "- 문제1\n",
        "\n",
        "  (1) $y=-2x^2+8x+1$\n",
        "\n",
        "  https://www.geogebra.org/m/aye2m92g\n",
        "\n",
        "  (2) $y=\\displaystyle\\frac{1}{4}x^2-5x$\n",
        "\n",
        "  https://www.geogebra.org/m/x77fkspm\n",
        "\n",
        "\n",
        "- 문제2\n",
        "\n",
        "  (1) $y=x^2-8x+2$ $\\ \\ \\ \\ \\ (0\\le x\\le 5)$\n",
        "\n",
        "  https://www.geogebra.org/m/c5qdf4g5\n",
        "\n",
        "  (2) $y=-\\displaystyle\\frac{1}{2}x^2+5x-10$ $\\ \\ \\ \\ \\ (-1\\le x\\le 2)$\n",
        "\n",
        "  https://www.geogebra.org/m/vnsbmhyt\n",
        "\n",
        "\n",
        "- 문제3\n",
        "  \n",
        "  $\\displaystyle y=-\\frac{3}{2}x^2+60x$ $\\ \\ \\ \\ (0 \\le x \\le 40 )$\n",
        "  \n",
        "  https://www.geogebra.org/m/nwfugyjm\n",
        "\n",
        "- 문제4\n",
        "  \n",
        "  $y=x^2-4x+k-3$ $\\ \\ \\ \\ (1 \\le x \\le 4 )$  $\\ \\ \\ \\ max=6$\n",
        "  \n",
        "  https://www.geogebra.org/m/znqh7vx9\n",
        "\n",
        "\n",
        "- 문제5\n",
        "  \n",
        "  $y=(10000-500x)(40+10x)$ $\\ \\ \\ \\ (0 \\le x \\le 20 )$  \n",
        "  \n",
        "  https://www.geogebra.org/m/edxftpps\n",
        "\n",
        "\n",
        "\n",
        "\n",
        "\n",
        "\n"
      ],
      "metadata": {
        "id": "kcDbBYl6QkoH"
      }
    }
  ]
}