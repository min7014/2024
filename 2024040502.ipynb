{
  "nbformat": 4,
  "nbformat_minor": 0,
  "metadata": {
    "colab": {
      "provenance": [],
      "include_colab_link": true
    },
    "kernelspec": {
      "name": "python3",
      "display_name": "Python 3"
    }
  },
  "cells": [
    {
      "cell_type": "markdown",
      "metadata": {
        "id": "view-in-github",
        "colab_type": "text"
      },
      "source": [
        "<a href=\"https://colab.research.google.com/github/min7014/2024/blob/main/2024040502.ipynb\" target=\"_parent\"><img src=\"https://colab.research.google.com/assets/colab-badge.svg\" alt=\"Open In Colab\"/></a>"
      ]
    },
    {
      "cell_type": "markdown",
      "source": [
        "### 2.2.2 이차함수의 그래프와 직선의 위치 관계\n"
      ],
      "metadata": {
        "id": "L-bNfEMusPUe"
      }
    },
    {
      "cell_type": "markdown",
      "source": [
        "\n",
        "- 생각열기\n",
        "  \n",
        "  $y=x^2$, $y=x+a$\n",
        "\n",
        "  https://www.geogebra.org/m/x8b2njqr\n",
        "\n",
        "- 보기\n",
        "\n",
        "  (1) $y=x^2-4x-5$, $y=2x-5$\n",
        "      \n",
        "  https://www.geogebra.org/m/uxpdddz2\n",
        "\n",
        "  (2) $y=-x^2$, $y=-x+1$\n",
        "\n",
        "  https://www.geogebra.org/m/wmwawkgd\n",
        "\n",
        "\n",
        "- 문제1\n",
        "\n",
        "  (1) $y=3x^2 -2x +1$, $y=-3x+1$\n",
        "\n",
        "  https://www.geogebra.org/m/e9tvcqs7\n",
        "\n",
        "  (2) $y=-x^2+5x+3$, $y=4x+5$\n",
        "\n",
        "  https://www.geogebra.org/m/ycmdzyhk\n",
        "\n",
        "  (3) $y=2x^2+5x+1$, $y=x-1$\n",
        "\n",
        "  https://www.geogebra.org/m/c4pjkseu\n",
        "\n",
        "\n",
        "- 예제1\n",
        "\n",
        "  $y=2x^2$, $y=kx-2$\n",
        "\n",
        "  https://www.geogebra.org/m/vegaw2ak\n",
        "  \n",
        "\n",
        "- 문제2\n",
        "\n",
        "  $y=3x^2+1$, $y=-2x+k$\n",
        "\n",
        "  https://www.geogebra.org/m/vkvwxvrd\n",
        "\n",
        "\n",
        "\n"
      ],
      "metadata": {
        "id": "kcDbBYl6QkoH"
      }
    }
  ]
}