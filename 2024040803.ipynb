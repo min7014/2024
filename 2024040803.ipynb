{
  "nbformat": 4,
  "nbformat_minor": 0,
  "metadata": {
    "colab": {
      "provenance": [],
      "include_colab_link": true
    },
    "kernelspec": {
      "name": "python3",
      "display_name": "Python 3"
    }
  },
  "cells": [
    {
      "cell_type": "markdown",
      "metadata": {
        "id": "view-in-github",
        "colab_type": "text"
      },
      "source": [
        "<a href=\"https://colab.research.google.com/github/min7014/2024/blob/main/2024040803.ipynb\" target=\"_parent\"><img src=\"https://colab.research.google.com/assets/colab-badge.svg\" alt=\"Open In Colab\"/></a>"
      ]
    },
    {
      "cell_type": "markdown",
      "source": [
        "### 2.2.3 확인문제\n"
      ],
      "metadata": {
        "id": "L-bNfEMusPUe"
      }
    },
    {
      "cell_type": "markdown",
      "source": [
        "- 문제1\n",
        "\n",
        "  (1) $y=3x^2+12x-1$\n",
        "  \n",
        "  https://www.geogebra.org/m/hqxeabha\n",
        "\n",
        "  (1) $\\displaystyle y=-\\frac{1}{2}x^2+x-3$\n",
        "  \n",
        "  https://www.geogebra.org/m/qjhvhz4x\n",
        "\n",
        "- 문제2\n",
        "  \n",
        "  (1) $y=-x^2+8$ $\\ \\ \\ \\ (-2 \\le x \\le 3 )$\n",
        "  \n",
        "  https://www.geogebra.org/m/mmbdjmex\n",
        "\n",
        "  (2) $y=(x-1)(x-5)$ $\\ \\ \\ \\ (0 \\le x \\le 4 )$\n",
        "  \n",
        "  https://www.geogebra.org/m/s9pjqajv\n",
        "\n",
        "  (3) $\\displaystyle y=\\frac{1}{3}x^2+2x$ $\\ \\ \\ \\ (0 \\le x \\le 3 )$\n",
        "  \n",
        "  https://www.geogebra.org/m/vgx7byxa\n",
        "\n",
        "  (4) $y=-2x^2-6x+1$ $\\ \\ \\ \\ (-1 \\le x \\le 2 )$\n",
        "  \n",
        "  https://www.geogebra.org/m/qgt4cywv\n",
        "\n",
        "- 문제3\n",
        "  \n",
        "  $y=(x+1)^2-2$\n",
        "  \n",
        "  https://www.geogebra.org/m/zag2vhdb\n",
        "\n",
        "\n",
        "- 문제4\n",
        "  \n",
        "  $y=x^2-4x+k-3$ $\\ \\ \\ \\ (1 \\le x \\le 4 )$  $\\ \\ \\ \\ max=6$\n",
        "  \n",
        "  https://www.geogebra.org/m/znqh7vx9\n",
        "\n",
        "\n",
        "- 문제5\n",
        "  \n",
        "  $y=(10000-500x)(40+10x)$ $\\ \\ \\ \\ (0 \\le x \\le 20 )$  \n",
        "  \n",
        "  https://www.geogebra.org/m/edxftpps\n",
        "\n",
        "\n",
        "\n",
        "\n",
        "\n",
        "\n",
        "\n"
      ],
      "metadata": {
        "id": "kcDbBYl6QkoH"
      }
    }
  ]
}